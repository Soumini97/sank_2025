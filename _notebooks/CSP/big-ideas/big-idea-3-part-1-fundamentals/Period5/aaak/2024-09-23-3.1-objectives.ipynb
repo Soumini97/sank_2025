{
 "cells": [
  {
   "cell_type": "raw",
   "metadata": {
    "vscode": {
     "languageId": "raw"
    }
   },
   "source": [
    "---\n",
    "toc: false\n",
    "comments: true\n",
    "layout: post\n",
    "title: 3.1 Objectives \n",
    "description: 3.1 JavaScript and Python Homework\n",
    "permalink: /csp/big-idea/3.1/p5/objectives\n",
    "categories: [CSP Big Ideas]\n",
    "author: Aadi, Aaditya, Aditya, Kanhay\n",
    "menu: nav/csp_units/csp_unit3_p5_fundamentals.html\n",
    "---"
   ]
  },
  {
   "cell_type": "markdown",
   "metadata": {
    "vscode": {
     "languageId": "plaintext"
    }
   },
   "source": [
    "## 3.1 Homework \n",
    "\n",
    "### Attempt all of these in both JavaScript and Python!\n",
    "\n",
    "Create 3 Variables\n",
    "\t- One String Variable for your name\n",
    "\t- One Integer Variable for your age\n",
    "\t- One Float Variable for your favorite number\n",
    "\n",
    "Naming Conventions:\n",
    "\t- Create one variable using snake_case for a favorite food.\n",
    "\t- Create one variable using PascalCase for a favorite hobby.\n",
    "\t- Create one variable using camelCase for your favorite color.\n",
    "\t\n",
    "List and Dictionary:\n",
    "\t- Create a list that contains your name, age, and favorite number.\n",
    "\t- Create a dictionary with keys for \"name\", \"age\", and \"favorite_number\".\n",
    "\n",
    "\n",
    "| Grade | Description                                                     | Percentage (%) |\n",
    "|-------|-----------------------------------------------------------------|----------------|\n",
    "| 4+    | Top work (Given to top 2 or none depending on submissions)      | 95%            |\n",
    "| 4     | Performed 98% to 100% of requirements, Average                  | 89% to 92%     |\n",
    "| 3     | Missing some key elements                                       | 80% to 85%     |\n",
    "| 2     | Missing many to most key elements                               | 70%            |\n",
    "| 1     | No work                                                         | 55%            |\n",
    "| 0     | Copying or not understanding work performed                     | 0%             |\n",
    "| **Final 5%** | Document any awards and notes in Grading Spreadsheet. Include comments explaining why and how you thought of each line, as well as showing pseudocode if applicable. (Anyone can earn this, doesn't matter if you're top in the class or not, just a way to get a 100%) | **1% to 5%**   |\n",
    "\n",
    "\n"
   ]
  },
  {
   "cell_type": "raw",
   "metadata": {},
   "source": []
  }
 ],
 "metadata": {
  "language_info": {
   "name": "python"
  }
 },
 "nbformat": 4,
 "nbformat_minor": 2
}
